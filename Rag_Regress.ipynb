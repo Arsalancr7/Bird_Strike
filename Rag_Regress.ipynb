{
 "cells": [
  {
   "cell_type": "code",
   "execution_count": 2,
   "id": "1368a2dd-a5ad-48fe-b50e-a4915b73ab77",
   "metadata": {},
   "outputs": [],
   "source": [
    "import pandas as pd\n",
    "import numpy as np\n",
    "import matplotlib.pyplot as plt\n",
    "import seaborn as sns\n"
   ]
  },
  {
   "cell_type": "markdown",
   "id": "271f48ea-42b3-4d5b-ae16-f2c5bc5d3e1d",
   "metadata": {},
   "source": [
    "Reading the Excel file cleaned version of the data"
   ]
  },
  {
   "cell_type": "code",
   "execution_count": 3,
   "id": "131f320e-5dc8-41d4-86d8-52a58c8ac8ae",
   "metadata": {},
   "outputs": [
    {
     "name": "stderr",
     "output_type": "stream",
     "text": [
      "C:\\Users\\arsal\\AppData\\Local\\Temp/ipykernel_27596/423349280.py:2: DtypeWarning: Columns (8,9,17,20) have mixed types. Specify dtype option on import or set low_memory=False.\n",
      "  df_clean= pd.read_csv('data/cleaned_birdstrike_data_V_3.csv')\n"
     ]
    },
    {
     "name": "stdout",
     "output_type": "stream",
     "text": [
      "Shape of dataset: (324232, 92)\n"
     ]
    },
    {
     "data": {
      "text/html": [
       "<div>\n",
       "<style scoped>\n",
       "    .dataframe tbody tr th:only-of-type {\n",
       "        vertical-align: middle;\n",
       "    }\n",
       "\n",
       "    .dataframe tbody tr th {\n",
       "        vertical-align: top;\n",
       "    }\n",
       "\n",
       "    .dataframe thead th {\n",
       "        text-align: right;\n",
       "    }\n",
       "</style>\n",
       "<table border=\"1\" class=\"dataframe\">\n",
       "  <thead>\n",
       "    <tr style=\"text-align: right;\">\n",
       "      <th></th>\n",
       "      <th>INDEX_NR</th>\n",
       "      <th>INCIDENT_DATE</th>\n",
       "      <th>INCIDENT_MONTH</th>\n",
       "      <th>INCIDENT_YEAR</th>\n",
       "      <th>TIME</th>\n",
       "      <th>TIME_OF_DAY</th>\n",
       "      <th>AIRPORT_ID</th>\n",
       "      <th>AIRPORT</th>\n",
       "      <th>AIRPORT_LATITUDE</th>\n",
       "      <th>AIRPORT_LONGITUDE</th>\n",
       "      <th>...</th>\n",
       "      <th>REMAINS_SENT</th>\n",
       "      <th>WARNED</th>\n",
       "      <th>NUM_SEEN</th>\n",
       "      <th>NUM_STRUCK</th>\n",
       "      <th>SIZE</th>\n",
       "      <th>ENROUTE_STATE</th>\n",
       "      <th>COMMENTS</th>\n",
       "      <th>SOURCE</th>\n",
       "      <th>PERSON</th>\n",
       "      <th>LUPDATE</th>\n",
       "    </tr>\n",
       "  </thead>\n",
       "  <tbody>\n",
       "    <tr>\n",
       "      <th>0</th>\n",
       "      <td>608242</td>\n",
       "      <td>1996-06-22</td>\n",
       "      <td>6</td>\n",
       "      <td>1996</td>\n",
       "      <td>NaN</td>\n",
       "      <td>Unknown</td>\n",
       "      <td>KSMF</td>\n",
       "      <td>SACRAMENTO INTL</td>\n",
       "      <td>38.69542</td>\n",
       "      <td>-121.59077</td>\n",
       "      <td>...</td>\n",
       "      <td>0</td>\n",
       "      <td>Unknown</td>\n",
       "      <td>NaN</td>\n",
       "      <td>1</td>\n",
       "      <td>Medium</td>\n",
       "      <td>NaN</td>\n",
       "      <td>/Legacy Record 100001/</td>\n",
       "      <td>Air Transport Report</td>\n",
       "      <td>Air Transport Operations</td>\n",
       "      <td>2007-12-20</td>\n",
       "    </tr>\n",
       "    <tr>\n",
       "      <th>1</th>\n",
       "      <td>608243</td>\n",
       "      <td>1996-06-26</td>\n",
       "      <td>6</td>\n",
       "      <td>1996</td>\n",
       "      <td>NaN</td>\n",
       "      <td>Unknown</td>\n",
       "      <td>KDEN</td>\n",
       "      <td>DENVER INTL AIRPORT</td>\n",
       "      <td>39.85841</td>\n",
       "      <td>-104.667</td>\n",
       "      <td>...</td>\n",
       "      <td>0</td>\n",
       "      <td>Unknown</td>\n",
       "      <td>NaN</td>\n",
       "      <td>1</td>\n",
       "      <td>Medium</td>\n",
       "      <td>NaN</td>\n",
       "      <td>/Legacy Record 100002/</td>\n",
       "      <td>Air Transport Report</td>\n",
       "      <td>Air Transport Operations</td>\n",
       "      <td>2007-12-20</td>\n",
       "    </tr>\n",
       "    <tr>\n",
       "      <th>2</th>\n",
       "      <td>608244</td>\n",
       "      <td>1996-07-01</td>\n",
       "      <td>7</td>\n",
       "      <td>1996</td>\n",
       "      <td>NaN</td>\n",
       "      <td>Unknown</td>\n",
       "      <td>KOMA</td>\n",
       "      <td>EPPLEY AIRFIELD</td>\n",
       "      <td>41.30252</td>\n",
       "      <td>-95.89417</td>\n",
       "      <td>...</td>\n",
       "      <td>0</td>\n",
       "      <td>Unknown</td>\n",
       "      <td>NaN</td>\n",
       "      <td>1</td>\n",
       "      <td>Medium</td>\n",
       "      <td>NaN</td>\n",
       "      <td>/Legacy Record 100003/</td>\n",
       "      <td>Air Transport Report</td>\n",
       "      <td>Air Transport Operations</td>\n",
       "      <td>2007-12-20</td>\n",
       "    </tr>\n",
       "    <tr>\n",
       "      <th>3</th>\n",
       "      <td>608245</td>\n",
       "      <td>1996-07-01</td>\n",
       "      <td>7</td>\n",
       "      <td>1996</td>\n",
       "      <td>NaN</td>\n",
       "      <td>Unknown</td>\n",
       "      <td>KIAD</td>\n",
       "      <td>WASHINGTON DULLES INTL ARPT</td>\n",
       "      <td>38.94453</td>\n",
       "      <td>-77.45581</td>\n",
       "      <td>...</td>\n",
       "      <td>0</td>\n",
       "      <td>Unknown</td>\n",
       "      <td>NaN</td>\n",
       "      <td>1</td>\n",
       "      <td>Medium</td>\n",
       "      <td>NaN</td>\n",
       "      <td>/Legacy Record 100004/</td>\n",
       "      <td>Air Transport Report</td>\n",
       "      <td>Air Transport Operations</td>\n",
       "      <td>2007-12-20</td>\n",
       "    </tr>\n",
       "    <tr>\n",
       "      <th>4</th>\n",
       "      <td>608246</td>\n",
       "      <td>1996-07-01</td>\n",
       "      <td>7</td>\n",
       "      <td>1996</td>\n",
       "      <td>NaN</td>\n",
       "      <td>Unknown</td>\n",
       "      <td>KLGA</td>\n",
       "      <td>LA GUARDIA ARPT</td>\n",
       "      <td>40.77724</td>\n",
       "      <td>-73.87261</td>\n",
       "      <td>...</td>\n",
       "      <td>0</td>\n",
       "      <td>Unknown</td>\n",
       "      <td>NaN</td>\n",
       "      <td>1</td>\n",
       "      <td>Medium</td>\n",
       "      <td>NaN</td>\n",
       "      <td>/Legacy Record 100005/</td>\n",
       "      <td>Air Transport Report</td>\n",
       "      <td>Air Transport Operations</td>\n",
       "      <td>2007-12-20</td>\n",
       "    </tr>\n",
       "  </tbody>\n",
       "</table>\n",
       "<p>5 rows × 92 columns</p>\n",
       "</div>"
      ],
      "text/plain": [
       "   INDEX_NR INCIDENT_DATE  INCIDENT_MONTH  INCIDENT_YEAR TIME TIME_OF_DAY  \\\n",
       "0    608242    1996-06-22               6           1996  NaN     Unknown   \n",
       "1    608243    1996-06-26               6           1996  NaN     Unknown   \n",
       "2    608244    1996-07-01               7           1996  NaN     Unknown   \n",
       "3    608245    1996-07-01               7           1996  NaN     Unknown   \n",
       "4    608246    1996-07-01               7           1996  NaN     Unknown   \n",
       "\n",
       "  AIRPORT_ID                      AIRPORT AIRPORT_LATITUDE AIRPORT_LONGITUDE  \\\n",
       "0       KSMF              SACRAMENTO INTL         38.69542        -121.59077   \n",
       "1       KDEN          DENVER INTL AIRPORT         39.85841          -104.667   \n",
       "2       KOMA              EPPLEY AIRFIELD         41.30252         -95.89417   \n",
       "3       KIAD  WASHINGTON DULLES INTL ARPT         38.94453         -77.45581   \n",
       "4       KLGA              LA GUARDIA ARPT         40.77724         -73.87261   \n",
       "\n",
       "   ... REMAINS_SENT   WARNED NUM_SEEN NUM_STRUCK    SIZE ENROUTE_STATE  \\\n",
       "0  ...            0  Unknown      NaN          1  Medium           NaN   \n",
       "1  ...            0  Unknown      NaN          1  Medium           NaN   \n",
       "2  ...            0  Unknown      NaN          1  Medium           NaN   \n",
       "3  ...            0  Unknown      NaN          1  Medium           NaN   \n",
       "4  ...            0  Unknown      NaN          1  Medium           NaN   \n",
       "\n",
       "                  COMMENTS                SOURCE                    PERSON  \\\n",
       "0   /Legacy Record 100001/  Air Transport Report  Air Transport Operations   \n",
       "1   /Legacy Record 100002/  Air Transport Report  Air Transport Operations   \n",
       "2   /Legacy Record 100003/  Air Transport Report  Air Transport Operations   \n",
       "3   /Legacy Record 100004/  Air Transport Report  Air Transport Operations   \n",
       "4   /Legacy Record 100005/  Air Transport Report  Air Transport Operations   \n",
       "\n",
       "      LUPDATE  \n",
       "0  2007-12-20  \n",
       "1  2007-12-20  \n",
       "2  2007-12-20  \n",
       "3  2007-12-20  \n",
       "4  2007-12-20  \n",
       "\n",
       "[5 rows x 92 columns]"
      ]
     },
     "execution_count": 3,
     "metadata": {},
     "output_type": "execute_result"
    }
   ],
   "source": [
    "# Load the FAA bird strike data\n",
    "df_clean= pd.read_csv('data/cleaned_birdstrike_data_V_3.csv')\n",
    "\n",
    "# Basic inspection\n",
    "print(\"Shape of dataset:\", df_clean.shape)\n",
    "df_clean.head()"
   ]
  },
  {
   "cell_type": "markdown",
   "id": "cdb8a6fd-7985-43a1-9008-cf7794470298",
   "metadata": {},
   "source": [
    "counts the number of missing (NaN) and non-missing values in the COST_REPAIRS column of df_clean"
   ]
  },
  {
   "cell_type": "code",
   "execution_count": 28,
   "id": "e95ed90c-fbb5-4ac7-b3e5-d2b27c233f59",
   "metadata": {},
   "outputs": [
    {
     "data": {
      "text/plain": [
       "(318926, 5306)"
      ]
     },
     "execution_count": 28,
     "metadata": {},
     "output_type": "execute_result"
    }
   ],
   "source": [
    "df_clean[\"COST_REPAIRS\"].isna().sum(), df_clean[\"COST_REPAIRS\"].notna().sum()"
   ]
  },
  {
   "cell_type": "markdown",
   "id": "5377c3ea-da19-4c95-8a32-05e7c82ed45e",
   "metadata": {},
   "source": [
    "creates a new DataFrame df_reg containing only the rows from df_clean where COST_REPAIRS is not missing"
   ]
  },
  {
   "cell_type": "code",
   "execution_count": 29,
   "id": "6ba55f5f-b21e-4bdf-ab41-6466ca1377ce",
   "metadata": {},
   "outputs": [],
   "source": [
    "df_reg = df_clean[df_clean[\"COST_REPAIRS\"].notna()].copy()\n"
   ]
  },
  {
   "cell_type": "code",
   "execution_count": 31,
   "id": "124c564e-9a55-4593-b8de-c94273471566",
   "metadata": {},
   "outputs": [
    {
     "data": {
      "text/plain": [
       "0"
      ]
     },
     "execution_count": 31,
     "metadata": {},
     "output_type": "execute_result"
    }
   ],
   "source": [
    "df_reg[\"COST_REPAIRS\"].isna().sum()"
   ]
  },
  {
   "cell_type": "markdown",
   "id": "b4dfc5aa-8aa7-4e49-bafd-4d417666be37",
   "metadata": {},
   "source": [
    "creates a new column LOG_COST_REPAIRS in df_reg to reduce skewness and stabilize variance in the repair cost data"
   ]
  },
  {
   "cell_type": "code",
   "execution_count": 32,
   "id": "58b30bec-79cd-483b-86b1-46324811ecd9",
   "metadata": {},
   "outputs": [],
   "source": [
    "df_reg[\"LOG_COST_REPAIRS\"] = np.log1p(df_reg[\"COST_REPAIRS\"])\n"
   ]
  },
  {
   "cell_type": "markdown",
   "id": "45032f3b-6476-4a2b-88ca-374f524051a5",
   "metadata": {},
   "source": [
    "feature correlations with the repair cost target and visualizes the most important ones"
   ]
  },
  {
   "cell_type": "code",
   "execution_count": 33,
   "id": "61e205a6-6c78-46ef-af27-5ab349fb6d57",
   "metadata": {},
   "outputs": [
    {
     "name": "stdout",
     "output_type": "stream",
     "text": [
      "📊 Top 15 Correlated Features with COST_REPAIRS:\n",
      "COST_REPAIRS_INFL_ADJ    0.987325\n",
      "LOG_COST_REPAIRS         0.358404\n",
      "COST_OTHER_INFL_ADJ      0.208200\n",
      "ING_ENG1                 0.199757\n",
      "COST_OTHER               0.170111\n",
      "DAM_ENG2                 0.152935\n",
      "INGESTED_OTHER           0.152437\n",
      "DAM_ENG1                 0.144129\n",
      "ENG_1_POS                0.142036\n",
      "AC_MASS                  0.137029\n",
      "STR_ENG2                 0.136844\n",
      "REMAINS_SENT             0.129973\n",
      "STR_ENG1                 0.120308\n",
      "ING_ENG2                 0.117521\n",
      "REMAINS_COLLECTED        0.110514\n",
      "Name: COST_REPAIRS, dtype: float64\n",
      "\n",
      "📊 Top 15 Correlated Features with LOG_COST_REPAIRS:\n",
      "COST_REPAIRS_INFL_ADJ    0.363913\n",
      "AC_MASS                  0.359076\n",
      "COST_REPAIRS             0.358404\n",
      "INGESTED_OTHER           0.352503\n",
      "NUM_ENGS                 0.310148\n",
      "DAM_ENG1                 0.296709\n",
      "ENG_1_POS                0.291138\n",
      "DAM_ENG2                 0.280700\n",
      "STR_ENG2                 0.261288\n",
      "STR_ENG1                 0.258716\n",
      "REMAINS_SENT             0.239021\n",
      "REMAINS_COLLECTED        0.205099\n",
      "COST_OTHER_INFL_ADJ      0.204625\n",
      "COST_OTHER               0.186873\n",
      "EMA                      0.169577\n",
      "Name: LOG_COST_REPAIRS, dtype: float64\n"
     ]
    },
    {
     "data": {
      "image/png": "[encoded data removed]",
      "text/plain": [
       "<Figure size 720x432 with 1 Axes>"
      ]
     },
     "metadata": {},
     "output_type": "display_data"
    }
   ],
   "source": [
    "import pandas as pd\n",
    "import numpy as np\n",
    "import seaborn as sns\n",
    "import matplotlib.pyplot as plt\n",
    "\n",
    "\n",
    "\n",
    "\n",
    "# Select only numeric columns for correlation\n",
    "numeric_cols = df_reg.select_dtypes(include=[np.number])\n",
    "\n",
    "# Compute correlations with both raw and log-transformed target\n",
    "corr_raw = numeric_cols.corr()[\"COST_REPAIRS\"].drop(\"COST_REPAIRS\").sort_values(ascending=False)\n",
    "corr_log = numeric_cols.corr()[\"LOG_COST_REPAIRS\"].drop(\"LOG_COST_REPAIRS\").sort_values(ascending=False)\n",
    "\n",
    "# Display top correlated features \n",
    "top_corr_raw = corr_raw.abs().sort_values(ascending=False).head(15)\n",
    "top_corr_log = corr_log.abs().sort_values(ascending=False).head(15)\n",
    "\n",
    "print(\"📊 Top 15 Correlated Features with COST_REPAIRS:\")\n",
    "print(top_corr_raw)\n",
    "\n",
    "print(\"\\n📊 Top 15 Correlated Features with LOG_COST_REPAIRS:\")\n",
    "print(top_corr_log)\n",
    "\n",
    "# Plot heatmap of correlations with log target\n",
    "plt.figure(figsize=(10, 6))\n",
    "sns.barplot(x=top_corr_log.values, y=top_corr_log.index)\n",
    "plt.title(\"Top Features Correlated with LOG_COST_REPAIRS\")\n",
    "plt.xlabel(\"Correlation\")\n",
    "plt.tight_layout()\n",
    "plt.show()\n"
   ]
  },
  {
   "cell_type": "markdown",
   "id": "20e36442-cfda-4422-9691-9bf1e8183470",
   "metadata": {},
   "source": [
    "data inspection for the chosen model features:\n",
    "\n",
    "selected_features → Defines a list of columns to examine.\n",
    "\n",
    "Missing values check → Counts null values in each selected feature.\n",
    "\n",
    "Unique values check → For each feature:"
   ]
  },
  {
   "cell_type": "code",
   "execution_count": 34,
   "id": "60859deb-8e1d-4c40-8612-a6cda07ed600",
   "metadata": {},
   "outputs": [
    {
     "name": "stdout",
     "output_type": "stream",
     "text": [
      "🔍 Missing Values:\n",
      "\n",
      "AC_MASS               40\n",
      "NUM_ENGS             103\n",
      "INGESTED_OTHER         0\n",
      "DAM_ENG1               0\n",
      "DAM_ENG2               0\n",
      "ENG_1_POS            102\n",
      "STR_ENG2               0\n",
      "STR_ENG1               0\n",
      "REMAINS_SENT           0\n",
      "REMAINS_COLLECTED      0\n",
      "EMA                  326\n",
      "dtype: int64\n",
      "\n",
      "--------------------------------------------------\n",
      "📌 Feature: AC_MASS\n",
      "Unique values (5): [2. 4. 3. 1. 5.]\n",
      "AC_MASS\n",
      "4.0    1704\n",
      "1.0    1328\n",
      "2.0    1120\n",
      "3.0    1031\n",
      "5.0      83\n",
      "Name: count, dtype: int64\n",
      "--------------------------------------------------\n",
      "📌 Feature: NUM_ENGS\n",
      "Unique values (4): [2. 1. 3. 4.]\n",
      "NUM_ENGS\n",
      "2.0    3474\n",
      "1.0    1372\n",
      "3.0     230\n",
      "4.0     127\n",
      "Name: count, dtype: int64\n",
      "--------------------------------------------------\n",
      "📌 Feature: INGESTED_OTHER\n",
      "Unique values (2): [0 1]\n",
      "INGESTED_OTHER\n",
      "0    4277\n",
      "1    1029\n",
      "Name: count, dtype: int64\n",
      "--------------------------------------------------\n",
      "📌 Feature: DAM_ENG1\n",
      "Unique values (2): [0 1]\n",
      "DAM_ENG1\n",
      "0    4520\n",
      "1     786\n",
      "Name: count, dtype: int64\n",
      "--------------------------------------------------\n",
      "📌 Feature: DAM_ENG2\n",
      "Unique values (2): [0 1]\n",
      "DAM_ENG2\n",
      "0    4687\n",
      "1     619\n",
      "Name: count, dtype: int64\n",
      "--------------------------------------------------\n",
      "📌 Feature: ENG_1_POS\n",
      "Unique values (7): [4. 5. 7. 1. 6. 2. 3.]\n",
      "ENG_1_POS\n",
      "1.0    1439\n",
      "5.0    1342\n",
      "7.0    1149\n",
      "4.0     916\n",
      "6.0     348\n",
      "3.0       9\n",
      "2.0       1\n",
      "Name: count, dtype: int64\n",
      "--------------------------------------------------\n",
      "📌 Feature: STR_ENG2\n",
      "Unique values (2): [0 1]\n",
      "STR_ENG2\n",
      "0    4563\n",
      "1     743\n",
      "Name: count, dtype: int64\n",
      "--------------------------------------------------\n",
      "📌 Feature: STR_ENG1\n",
      "Unique values (2): [0 1]\n",
      "STR_ENG1\n",
      "0    4351\n",
      "1     955\n",
      "Name: count, dtype: int64\n",
      "--------------------------------------------------\n",
      "📌 Feature: REMAINS_SENT\n",
      "Unique values (2): [0 1]\n",
      "REMAINS_SENT\n",
      "0    4098\n",
      "1    1208\n",
      "Name: count, dtype: int64\n",
      "--------------------------------------------------\n",
      "📌 Feature: REMAINS_COLLECTED\n",
      "Unique values (2): [0 1]\n",
      "REMAINS_COLLECTED\n",
      "0    3432\n",
      "1    1874\n",
      "Name: count, dtype: int64\n",
      "--------------------------------------------------\n",
      "📌 Feature: EMA\n",
      "Unique values (21): [ 7. 34. 31. 13. 19. 10.  1. 22. 37. 43. 11. 23. 16.  9. 46.]\n",
      "count    4980.000000\n",
      "mean       19.368474\n",
      "std        11.314834\n",
      "min         1.000000\n",
      "25%        10.000000\n",
      "50%        19.000000\n",
      "75%        31.000000\n",
      "max        46.000000\n",
      "Name: EMA, dtype: float64\n",
      "--------------------------------------------------\n"
     ]
    }
   ],
   "source": [
    "selected_features = [\n",
    "    \"AC_MASS\", \"NUM_ENGS\", \"INGESTED_OTHER\", \"DAM_ENG1\", \"DAM_ENG2\",\n",
    "    \"ENG_1_POS\", \"STR_ENG2\", \"STR_ENG1\", \"REMAINS_SENT\", \"REMAINS_COLLECTED\", \"EMA\"\n",
    "]\n",
    "\n",
    "# Check for missing values\n",
    "print(\"🔍 Missing Values:\\n\")\n",
    "print(df_reg[selected_features].isnull().sum())\n",
    "print(\"\\n\" + \"-\"*50)\n",
    "\n",
    "# Check unique values for categorical or discrete features\n",
    "for col in selected_features:\n",
    "    print(f\"📌 Feature: {col}\")\n",
    "    unique_vals = df_reg[col].dropna().unique()\n",
    "    print(f\"Unique values ({len(unique_vals)}): {unique_vals[:15]}\")\n",
    "    \n",
    "    if df_reg[col].dtype in ['int64', 'float64'] and len(unique_vals) > 10:\n",
    "        print(df_reg[col].describe())\n",
    "    else:\n",
    "        print(df_reg[col].value_counts())\n",
    "    \n",
    "    print(\"-\" * 50)\n"
   ]
  },
  {
   "cell_type": "markdown",
   "id": "cc1d0eaa-73ce-4938-961c-efc583415852",
   "metadata": {},
   "source": [
    "encodes the selected features for regression modeling:\n",
    "\n",
    "Subset relevant data\n",
    "\n",
    "Keeps only the chosen predictors plus the target variables LOG_COST_REPAIRS and COST_REPAIRS.\n",
    "\n",
    "Encode categorical EMA\n",
    "\n",
    "Fills missing values with \"Missing\".\n",
    "\n",
    "Converts to strings and encodes them numerically using LabelEncoder.\n",
    "\n",
    "Fill missing categorical values\n",
    "\n",
    "For AC_MASS, NUM_ENGS, and ENG_1_POS, fills missing entries with the column’s mode (most frequent value).\n",
    "\n",
    "Group rare categories in ENG_1_POS\n",
    "\n",
    "Finds positions that occur fewer than 20 times.\n",
    "\n",
    "Replaces these rare values with the code 99 to reduce noise and improve model stability."
   ]
  },
  {
   "cell_type": "code",
   "execution_count": 35,
   "id": "78cb57c2-f4eb-40a5-a5d8-38a06e4dc814",
   "metadata": {},
   "outputs": [
    {
     "name": "stdout",
     "output_type": "stream",
     "text": [
      "✅ Missing values in selected features:\n",
      "\n",
      "AC_MASS              0\n",
      "NUM_ENGS             0\n",
      "INGESTED_OTHER       0\n",
      "DAM_ENG1             0\n",
      "DAM_ENG2             0\n",
      "ENG_1_POS            0\n",
      "STR_ENG2             0\n",
      "STR_ENG1             0\n",
      "REMAINS_SENT         0\n",
      "REMAINS_COLLECTED    0\n",
      "EMA                  0\n",
      "dtype: int64\n"
     ]
    }
   ],
   "source": [
    "import pandas as pd\n",
    "from sklearn.preprocessing import LabelEncoder\n",
    "\n",
    "# Define selected features\n",
    "selected_features = [\n",
    "    \"AC_MASS\",\n",
    "    \"NUM_ENGS\",\n",
    "    \"INGESTED_OTHER\",\n",
    "    \"DAM_ENG1\",\n",
    "    \"DAM_ENG2\",\n",
    "    \"ENG_1_POS\",\n",
    "    \"STR_ENG2\",\n",
    "    \"STR_ENG1\",\n",
    "    \"REMAINS_SENT\",\n",
    "    \"REMAINS_COLLECTED\",\n",
    "    \"EMA\"\n",
    "]\n",
    "\n",
    "# Subset the dataframe to only relevant features + target\n",
    "df_reg_cleaned = df_reg[selected_features + [\"LOG_COST_REPAIRS\", \"COST_REPAIRS\"]].copy()\n",
    "\n",
    "# Step 1: Fill missing EMA with 'Missing' label and encode\n",
    "df_reg_cleaned[\"EMA\"] = df_reg_cleaned[\"EMA\"].fillna(\"Missing\").astype(str)\n",
    "le = LabelEncoder()\n",
    "df_reg_cleaned[\"EMA\"] = le.fit_transform(df_reg_cleaned[\"EMA\"])\n",
    "\n",
    "# Step 2: Fill small missing values for categorical features with mode\n",
    "for col in [\"AC_MASS\", \"NUM_ENGS\", \"ENG_1_POS\"]:\n",
    "    df_reg_cleaned[col] = df_reg_cleaned[col].fillna(df_reg_cleaned[col].mode()[0])\n",
    "\n",
    "# Step 3: Group rare values in ENG_1_POS into '99'\n",
    "rare_positions = df_reg_cleaned[\"ENG_1_POS\"].value_counts()[df_reg_cleaned[\"ENG_1_POS\"].value_counts() < 20].index\n",
    "df_reg_cleaned[\"ENG_1_POS\"] = df_reg_cleaned[\"ENG_1_POS\"].apply(lambda x: 99 if x in rare_positions else x)\n",
    "\n",
    "# Step 4: Final check\n",
    "print(\"✅ Missing values in selected features:\\n\")\n",
    "print(df_reg_cleaned[selected_features].isnull().sum())\n"
   ]
  },
  {
   "cell_type": "markdown",
   "id": "fe5f75c6-575d-4de7-813b-758acd90ca4d",
   "metadata": {},
   "source": [
    "splits the cleaned dataset into training and test sets for modeling"
   ]
  },
  {
   "cell_type": "code",
   "execution_count": 36,
   "id": "d648883d-227d-42ac-a9a3-85f0ab4f003e",
   "metadata": {},
   "outputs": [],
   "source": [
    "from sklearn.model_selection import train_test_split\n",
    "\n",
    "X = df_reg_cleaned[selected_features]\n",
    "y = df_reg_cleaned[\"LOG_COST_REPAIRS\"]\n",
    "\n",
    "X_train, X_test, y_train, y_test = train_test_split(X, y, test_size=0.2, random_state=42)\n"
   ]
  },
  {
   "cell_type": "markdown",
   "id": "9d0ffcaf-1340-4229-8938-3352c96323e1",
   "metadata": {},
   "source": [
    "three regression models for predicting LOG_COST_REPAIRS:\n",
    "\n",
    "Models Defined\n",
    "\n",
    "CatBoostRegressor → Gradient boosting model optimized for categorical data.\n",
    "\n",
    "GradientBoostingRegressor → Scikit-learn’s gradient boosting implementation.\n",
    "\n",
    "RandomForestRegressor → Ensemble of decision trees for regression tasks."
   ]
  },
  {
   "cell_type": "code",
   "execution_count": 37,
   "id": "29a5be36-f57a-4b44-a3ac-9ec1fe84ed56",
   "metadata": {},
   "outputs": [
    {
     "name": "stdout",
     "output_type": "stream",
     "text": [
      "\n",
      "🔧 Training CatBoost...\n",
      "📊 CatBoost Performance:\n",
      "  MAE:  $1.55\n",
      "  RMSE: $1.97\n",
      "  R² Score: 0.2574\n",
      "\n",
      "🔧 Training GradientBoosting...\n",
      "📊 GradientBoosting Performance:\n",
      "  MAE:  $1.52\n",
      "  RMSE: $1.93\n",
      "  R² Score: 0.2870\n",
      "\n",
      "🔧 Training RandomForest...\n",
      "📊 RandomForest Performance:\n",
      "  MAE:  $1.58\n",
      "  RMSE: $2.01\n",
      "  R² Score: 0.2217\n",
      "\n",
      "🔍 Summary Comparison:\n",
      "CatBoost: MAE=$1.55, RMSE=$1.97, R²=0.2574\n",
      "GradientBoosting: MAE=$1.52, RMSE=$1.93, R²=0.2870\n",
      "RandomForest: MAE=$1.58, RMSE=$2.01, R²=0.2217\n"
     ]
    }
   ],
   "source": [
    "from catboost import CatBoostRegressor\n",
    "from sklearn.ensemble import GradientBoostingRegressor, RandomForestRegressor\n",
    "from sklearn.metrics import mean_absolute_error, mean_squared_error, r2_score\n",
    "import numpy as np\n",
    "\n",
    "# Define models\n",
    "models = {\n",
    "    \"CatBoost\": CatBoostRegressor(verbose=0, random_state=42),\n",
    "    \"GradientBoosting\": GradientBoostingRegressor(random_state=42),\n",
    "    \"RandomForest\": RandomForestRegressor(random_state=42)\n",
    "}\n",
    "\n",
    "results = {}\n",
    "\n",
    "# Train and evaluate each model\n",
    "for name, model in models.items():\n",
    "    print(f\"\\n🔧 Training {name}...\")\n",
    "    model.fit(X_train, y_train)\n",
    "    \n",
    "    y_pred = model.predict(X_test)\n",
    "    \n",
    "    mae = mean_absolute_error(y_test, y_pred)\n",
    "    rmse = np.sqrt(mean_squared_error(y_test, y_pred))\n",
    "    r2 = r2_score(y_test, y_pred)\n",
    "    \n",
    "    results[name] = {\"MAE\": mae, \"RMSE\": rmse, \"R2\": r2}\n",
    "    \n",
    "    print(f\"📊 {name} Performance:\")\n",
    "    print(f\"  MAE:  ${mae:.2f}\")\n",
    "    print(f\"  RMSE: ${rmse:.2f}\")\n",
    "    print(f\"  R² Score: {r2:.4f}\")\n",
    "\n",
    "# Compare results\n",
    "print(\"\\n🔍 Summary Comparison:\")\n",
    "for name, scores in results.items():\n",
    "    print(f\"{name}: MAE=${scores['MAE']:.2f}, RMSE=${scores['RMSE']:.2f}, R²={scores['R2']:.4f}\")\n"
   ]
  },
  {
   "cell_type": "code",
   "execution_count": 38,
   "id": "f3f955be-fb82-4be1-8264-cc40cb59e61f",
   "metadata": {},
   "outputs": [],
   "source": [
    "from sklearn.model_selection import cross_val_score, GridSearchCV\n",
    "from sklearn.ensemble import GradientBoostingRegressor\n",
    "from sklearn.metrics import mean_absolute_error, mean_squared_error, r2_score\n",
    "import numpy as np\n"
   ]
  },
  {
   "cell_type": "markdown",
   "id": "ba3e9973-9292-4f5b-b002-5b21e6fc0b3c",
   "metadata": {},
   "source": [
    "evaluates the Gradient Boosting Regressor using 5‑fold cross‑validation:\n",
    "\n",
    "Model Initialization\n",
    "\n",
    "Creates a GradientBoostingRegressor with a fixed random_state for reproducibility.\n",
    "\n",
    "Cross‑Validation\n",
    "\n",
    "cross_val_score splits the training set into 5 folds.\n",
    "\n",
    "In each fold, the model is trained on 4 parts and tested on the remaining part.\n",
    "\n",
    "Uses R² (scoring='r2') as the evaluation metric."
   ]
  },
  {
   "cell_type": "code",
   "execution_count": 39,
   "id": "8c82b783-4692-4188-bcbf-43451700f002",
   "metadata": {},
   "outputs": [
    {
     "name": "stdout",
     "output_type": "stream",
     "text": [
      "📊 Cross-validated R² scores: [0.34117622 0.27463206 0.34436329 0.2487179  0.29792919]\n",
      "📈 Mean R²: 0.3014\n"
     ]
    }
   ],
   "source": [
    "# Initialize the model\n",
    "gbr = GradientBoostingRegressor(random_state=42)\n",
    "\n",
    "# Perform 5-fold cross-validation\n",
    "cv_scores = cross_val_score(gbr, X_train, y_train, scoring='r2', cv=5)\n",
    "\n",
    "print(f\"📊 Cross-validated R² scores: {cv_scores}\")\n",
    "print(f\"📈 Mean R²: {cv_scores.mean():.4f}\")\n"
   ]
  },
  {
   "cell_type": "markdown",
   "id": "746b9bf0-6e0e-4ed0-b774-bce1db5b4985",
   "metadata": {},
   "source": [
    "repair cost prediction for a new incident example"
   ]
  },
  {
   "cell_type": "code",
   "execution_count": 42,
   "id": "8340a2a1-5f63-44e7-962c-8bed904c6e8c",
   "metadata": {},
   "outputs": [
    {
     "name": "stdout",
     "output_type": "stream",
     "text": [
      "💵 Predicted Repair Cost: $96359.94\n"
     ]
    }
   ],
   "source": [
    "import numpy as np\n",
    "\n",
    "# Example new input \n",
    "new_data = {\n",
    "    \"AC_MASS\": 4,\n",
    "    \"NUM_ENGS\": 2,\n",
    "    \"INGESTED_OTHER\": 1,\n",
    "    \"DAM_ENG1\": 1,\n",
    "    \"DAM_ENG2\": 0,\n",
    "    \"ENG_1_POS\": 1,\n",
    "    \"STR_ENG2\": 0,\n",
    "    \"STR_ENG1\": 1,\n",
    "    \"REMAINS_SENT\": 1,\n",
    "    \"REMAINS_COLLECTED\": 1,\n",
    "    \"EMA\": 20\n",
    "}\n",
    "\n",
    "# Convert to DataFrame for prediction\n",
    "import pandas as pd\n",
    "input_df = pd.DataFrame([new_data])\n",
    "\n",
    "# Predict log value\n",
    "predicted_log = best_gbr.predict(input_df)[0]\n",
    "\n",
    "# Convert back to dollar value\n",
    "predicted_cost = np.expm1(predicted_log)\n",
    "print(f\"💵 Predicted Repair Cost: ${predicted_cost:.2f}\")\n"
   ]
  },
  {
   "cell_type": "markdown",
   "id": "98d54f4c-0c9e-4bb8-a308-9c955c8181ba",
   "metadata": {},
   "source": [
    "saving the model"
   ]
  },
  {
   "cell_type": "code",
   "execution_count": 43,
   "id": "b87d8238-0c30-40ed-9f63-aa25bb2050dd",
   "metadata": {},
   "outputs": [
    {
     "name": "stdout",
     "output_type": "stream",
     "text": [
      "✅ Model saved as 'gbr_repair_cost_model.pkl'\n"
     ]
    }
   ],
   "source": [
    "import joblib\n",
    "\n",
    "joblib.dump(best_gbr, \"gbr_repair_cost_model.pkl\")\n",
    "print(\"✅ Model saved as 'gbr_repair_cost_model.pkl'\")\n"
   ]
  },
  {
   "cell_type": "code",
   "execution_count": 44,
   "id": "ce2a04b3-a304-4475-bf3a-4de6303310b4",
   "metadata": {},
   "outputs": [],
   "source": [
    "loaded_model = joblib.load(\"gbr_repair_cost_model.pkl\")\n"
   ]
  },
  {
   "cell_type": "code",
   "execution_count": 45,
   "id": "b6a51465-dbf6-46ce-a70e-39c9d9f790ae",
   "metadata": {},
   "outputs": [
    {
     "name": "stdout",
     "output_type": "stream",
     "text": [
      "💸 Predicted Cost: $96359.94\n"
     ]
    }
   ],
   "source": [
    "log_pred = loaded_model.predict(input_df)[0]\n",
    "actual_cost = np.expm1(log_pred)\n",
    "print(f\"💸 Predicted Cost: ${actual_cost:.2f}\")\n"
   ]
  },
  {
   "cell_type": "code",
   "execution_count": null,
   "id": "4936e318-5f90-4c2c-94f4-621cfe716335",
   "metadata": {},
   "outputs": [],
   "source": []
  },
  {
   "cell_type": "markdown",
   "id": "bee30565-defa-499e-ac3b-67863ce4a75d",
   "metadata": {},
   "source": [
    "Integrating tabular data into RAG (Retrieval-Augmented Generation) pipelines"
   ]
  },
  {
   "cell_type": "code",
   "execution_count": 4,
   "id": "3836c257-4f24-48a0-8b7c-cedf4c323b61",
   "metadata": {},
   "outputs": [],
   "source": [
    "from langchain_community.document_loaders.dataframe import DataFrameLoader\n"
   ]
  },
  {
   "cell_type": "markdown",
   "id": "708c0f02-5600-4d97-b8e0-7ef2e292da4a",
   "metadata": {},
   "source": [
    "FAA bird strike incident data for use in a LangChain-based RAG pipeline by:\n",
    "\n",
    "Formatting each record as readable text\n",
    "\n",
    "format_incident(row) builds a structured incident report string with icons and clear labels.\n",
    "\n",
    "Handles missing or unrealistic COST_REPAIRS values by replacing them with \"N/A\".\n",
    "\n",
    "Applying the formatter\n",
    "\n",
    "Adds a new \"text\" column to docs_df, where each row contains the formatted report text.\n",
    "\n",
    "Loading into LangChain\n",
    "\n",
    "Uses DataFrameLoader to turn each \"text\" entry into a LangChain Document object for retrieval or summarization.\n",
    "\n",
    "Splitting into chunks\n",
    "\n",
    "Uses RecursiveCharacterTextSplitter to break long documents into smaller chunks (500 characters, with 50 characters overlap) for better embedding and search performance."
   ]
  },
  {
   "cell_type": "code",
   "execution_count": 5,
   "id": "10d04c13-a9b1-45cd-b650-7afe8f1046f0",
   "metadata": {},
   "outputs": [],
   "source": [
    "import numpy as np\n",
    "\n",
    "from langchain.text_splitter import RecursiveCharacterTextSplitter\n",
    "\n",
    "# Format DataFrame into text\n",
    "def format_incident(row):\n",
    "    # Handle NaN or huge repair cost safely\n",
    "    try:\n",
    "        if not np.isnan(row['COST_REPAIRS']) and row['COST_REPAIRS'] < 1e10:\n",
    "            repair_cost = f\"${row['COST_REPAIRS']:,.2f}\"\n",
    "        else:\n",
    "            repair_cost = \"N/A\"\n",
    "    except:\n",
    "        repair_cost = \"N/A\"\n",
    "\n",
    "    return f\"\"\"\n",
    "🛩️ Aircraft Incident Report\n",
    "- 📅 Date: {row['INCIDENT_DATE']} (Month: {row['INCIDENT_MONTH']}, Year: {row['INCIDENT_YEAR']})\n",
    "- 🕑 Time of Day: {row['TIME_OF_DAY']}\n",
    "- 🛫 Airport: {row['AIRPORT']} (ID: {row['AIRPORT_ID']}, State: {row['STATE']}, Region: {row['FAAREGION']})\n",
    "- ✈️ Aircraft: {row['AIRCRAFT']} | Operator: {row['OPERATOR']}\n",
    "- ⚙️ Engines: {row['NUM_ENGS']} (Type: {row['TYPE_ENG']}, Position: ENG1: {row['ENG_1_POS']}, ENG2: {row['ENG_2_POS']})\n",
    "- 🚀 Phase of Flight: {row['PHASE_OF_FLIGHT']} | Altitude: {row['HEIGHT']} ft | Speed: {row['SPEED']} kts\n",
    "- ☁️ Weather: Sky: {row['SKY']}, Precipitation: {row['PRECIPITATION']}\n",
    "- 💥 Strike: ENG1 Struck: {row['STR_ENG1']}, Damaged: {row['DAM_ENG1']} | ENG2 Struck: {row['STR_ENG2']}, Damaged: {row['DAM_ENG2']}\n",
    "- 🦅 Bird Species: {row['SPECIES']} (Size: {row['SIZE']}, Number Seen: {row['NUM_SEEN']}, Struck: {row['NUM_STRUCK']})\n",
    "- 💸 Repair Cost: {repair_cost}\n",
    "- 📝 Remarks: {row['REMARKS']}\n",
    "\"\"\".strip()\n",
    "\n",
    "\n",
    "# Apply formatting\n",
    "docs_df = df_clean.copy()\n",
    "docs_df[\"text\"] = docs_df.apply(format_incident, axis=1)\n",
    "\n",
    "# Load into LangChain\n",
    "loader = DataFrameLoader(docs_df[[\"text\"]], page_content_column=\"text\")\n",
    "docs = loader.load()\n",
    "\n",
    "# Split long documents\n",
    "splitter = RecursiveCharacterTextSplitter(chunk_size=500, chunk_overlap=50)\n",
    "chunks = splitter.split_documents(docs)\n"
   ]
  },
  {
   "cell_type": "code",
   "execution_count": 6,
   "id": "5a959183-e436-4749-8882-1bf7af5348d2",
   "metadata": {},
   "outputs": [],
   "source": [
    "key=\"....\""
   ]
  },
  {
   "cell_type": "code",
   "execution_count": 7,
   "id": "328262bc-bd1f-4dce-9281-42b8afcbb8f0",
   "metadata": {},
   "outputs": [],
   "source": [
    "import os\n",
    "os.environ[\"OPENAI_API_KEY\"] = key  \n"
   ]
  },
  {
   "cell_type": "code",
   "execution_count": 8,
   "id": "830e5728-e81e-47a7-acaa-333b65cef499",
   "metadata": {},
   "outputs": [],
   "source": [
    "import warnings\n",
    "warnings.filterwarnings(\"ignore\", category=UserWarning)\n"
   ]
  },
  {
   "cell_type": "markdown",
   "id": "289d5e45-c4d2-42b3-bc82-795db22463bb",
   "metadata": {},
   "source": [
    "Connects to OpenAI’s API to generate vector embeddings for text.\n",
    "\n",
    "These embeddings are high‑dimensional numeric representations of text meaning.\n",
    "\n",
    "They are typically used in semantic search, clustering, and RAG pipelines to compare document similarity."
   ]
  },
  {
   "cell_type": "code",
   "execution_count": 9,
   "id": "5ed1565f-0ce7-4008-a243-a3c3de302589",
   "metadata": {},
   "outputs": [],
   "source": [
    "from langchain_openai import OpenAIEmbeddings\n",
    "embedding = OpenAIEmbeddings()\n"
   ]
  },
  {
   "cell_type": "markdown",
   "id": "dd92cba9-0bea-4859-bb9c-2d08f1d389c3",
   "metadata": {},
   "source": [
    "Store and index text embeddings for fast similarity search"
   ]
  },
  {
   "cell_type": "code",
   "execution_count": 10,
   "id": "ab876ad2-2d98-476b-a4b2-cde80e30b182",
   "metadata": {},
   "outputs": [],
   "source": [
    "from langchain.vectorstores import FAISS"
   ]
  },
  {
   "cell_type": "code",
   "execution_count": 22,
   "id": "895d0b13-e858-426d-aa3a-e4761f1e5240",
   "metadata": {},
   "outputs": [],
   "source": [
    "# Use only the first 10 chunks\n",
    "sample_chunks = chunks[:10000]\n"
   ]
  },
  {
   "cell_type": "markdown",
   "id": "938da725-155b-4ac4-b874-c29513f942d1",
   "metadata": {},
   "source": [
    "Create the FAISS index and Saves the FAISS index and metadata to the \"faiss_openai_index\" "
   ]
  },
  {
   "cell_type": "code",
   "execution_count": 23,
   "id": "e2ef73c0-2fbf-421c-8172-97907995a797",
   "metadata": {},
   "outputs": [],
   "source": [
    "\n",
    "\n",
    "\n",
    "\n",
    "\n",
    "vectorstore = FAISS.from_documents(sample_chunks, embedding)\n",
    "\n",
    "# 3. Save it for reuse\n",
    "vectorstore.save_local(\"faiss_openai_index\")\n"
   ]
  }
 ],
 "metadata": {
  "kernelspec": {
   "display_name": "Python 3 (ipykernel)",
   "language": "python",
   "name": "python3"
  },
  "language_info": {
   "codemirror_mode": {
    "name": "ipython",
    "version": 3
   },
   "file_extension": ".py",
   "mimetype": "text/x-python",
   "name": "python",
   "nbconvert_exporter": "python",
   "pygments_lexer": "ipython3",
   "version": "3.9.7"
  }
 },
 "nbformat": 4,
 "nbformat_minor": 5
}
